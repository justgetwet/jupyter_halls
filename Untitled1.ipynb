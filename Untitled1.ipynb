{
 "cells": [
  {
   "cell_type": "code",
   "execution_count": 41,
   "id": "4012ae4b",
   "metadata": {},
   "outputs": [],
   "source": [
    "import urllib.request\n",
    "from bs4 import BeautifulSoup\n",
    "import pandas as pd\n",
    "import re"
   ]
  },
  {
   "cell_type": "code",
   "execution_count": 59,
   "id": "7c8e28ba",
   "metadata": {},
   "outputs": [],
   "source": [
    "url = \"https://min-repo.com/category\" + urllib.parse.quote(\"/埼玉県/児玉郡/\")\n",
    "html = urllib.request.urlopen(url)\n",
    "soup = BeautifulSoup(html, \"lxml\")"
   ]
  },
  {
   "cell_type": "code",
   "execution_count": 71,
   "id": "141002ad",
   "metadata": {},
   "outputs": [
    {
     "data": {
      "text/plain": [
       "['◯アレックス▲パチスロ\\nサラリーマン金太郎〜ＭＡＸ〜',\n",
       " '☆ＧＩ優駿倶楽部◯パチスロ\\nモンキーターンIV▲パチスロ\\n聖闘士星矢海皇覚醒',\n",
       " '☆ノーゲーム・ノーライフ\\nＴＨＥ\\nＳＬＯＴ',\n",
       " '',\n",
       " '☆Ｗａｋｅ\\nＵＰ，Ｇｉｒｌｓ！◯バーサス',\n",
       " '',\n",
       " '☆忍魂\\n〜暁ノ章〜☆クレアの秘宝伝\\n女神の夢と魔法の遺跡◯パチスロ\\nバイオハザード7\\nレジデント\\nイービル',\n",
       " '☆パチスロ七つの大罪◯パチスロ\\nモンキーターンIV◯ＳＬＯＴ魔法少女まどか☆マギカ２▲政宗２◯末尾7',\n",
       " '▲パチスロ北斗の拳\\n宿命',\n",
       " '☆パチスロ鉄拳４デビルＶｅｒ．◯パチスロ\\nバイオハザード7\\nレジデント\\nイービル◯アレックス',\n",
       " '',\n",
       " '▲バーサス',\n",
       " '☆ツインドラゴンハナハナ-30◯パチスロ北斗の拳\\n宿命',\n",
       " '◯アレックス',\n",
       " '▲忍魂\\n〜暁ノ章〜',\n",
       " '☆パチスロ\\n聖闘士星矢海皇覚醒',\n",
       " '☆忍魂\\n〜暁ノ章〜',\n",
       " '▲百花繚乱サムライガールズ',\n",
       " '◯ハナビ',\n",
       " '',\n",
       " '☆忍魂\\n〜暁ノ章〜',\n",
       " '◯パチスロ\\n聖闘士星矢海皇覚醒',\n",
       " '☆パチスロ\\nバイオハザード7\\nレジデント\\nイービル▲パチスロ\\n獣王\\n王者の覚醒▲パチスロ北斗の拳\\n宿命',\n",
       " '',\n",
       " '◯ＳＬＯＴ魔法少女まどか☆マギカ２',\n",
       " '▲押忍！番長３',\n",
       " '☆ツインドラゴンハナハナ-30',\n",
       " '☆パチスロ北斗の拳\\n宿命☆アレックス▲政宗２',\n",
       " '☆ＳＬＯＴ魔法少女まどか☆マギカ２☆パチスロ七つの大罪◯ゴーゴージャグラー２◯末尾5',\n",
       " '']"
      ]
     },
     "execution_count": 71,
     "metadata": {},
     "output_type": "execute_result"
    }
   ],
   "source": [
    "tags = soup.select(\".ichiran_result2\")\n",
    "[re.sub(r\"\\s\", \"\\n\", tag.text) for tag in tags]\n",
    "#lst = [re.sub(\"\\u3000\", \"\\n\", tag.text) for tag in tags]"
   ]
  },
  {
   "cell_type": "code",
   "execution_count": 57,
   "id": "566e59b7",
   "metadata": {},
   "outputs": [],
   "source": [
    "title_tags = soup.select(\".ichiran_title a\")\n",
    "url_tags =  [a.get(\"href\")  for a in soup.select(\".ichiran_title a\")]"
   ]
  },
  {
   "cell_type": "code",
   "execution_count": 58,
   "id": "93a3475f",
   "metadata": {},
   "outputs": [
    {
     "name": "stdout",
     "output_type": "stream",
     "text": [
      "7/29(木) スーパーDステーション上里店 https://min-repo.com/473053/\n",
      "7/27(火) マルハン上里店 https://min-repo.com/471514/\n",
      "7/23(金) スーパーDステーション上里店 https://min-repo.com/468487/\n",
      "7/19(月) スーパーDステーション上里店 https://min-repo.com/465606/\n",
      "7/17(土) マルハン上里店 https://min-repo.com/463991/\n",
      "7/13(火) スーパーDステーション上里店 https://min-repo.com/461073/\n",
      "7/9(金) スーパーDステーション上里店 https://min-repo.com/458151/\n",
      "7/7(水) マルハン上里店 https://min-repo.com/456360/\n",
      "7/7(水) パチンコプラザ ラ･カータ上里店 https://min-repo.com/455982/\n",
      "7/7(水) スーパーDステーション上里店 https://min-repo.com/455952/\n",
      "7/3(土) スーパーDステーション上里店 https://min-repo.com/453413/\n",
      "6/29(火) スーパーDステーション上里店 https://min-repo.com/450534/\n",
      "6/27(日) マルハン上里店 https://min-repo.com/449220/\n",
      "6/23(水) スーパーDステーション上里店 https://min-repo.com/445984/\n",
      "6/19(土) スーパーDステーション上里店 https://min-repo.com/443095/\n",
      "6/17(木) マルハン上里店 https://min-repo.com/441623/\n",
      "6/13(日) スーパーDステーション上里店 https://min-repo.com/438629/\n",
      "6/9(水) スーパーDステーション上里店 https://min-repo.com/435939/\n",
      "6/7(月) マルハン上里店 https://min-repo.com/434418/\n",
      "6/3(木) スーパーDステーション上里店 https://min-repo.com/431065/\n",
      "5/29(土) スーパーDステーション上里店 https://min-repo.com/428028/\n",
      "5/27(木) マルハン上里店 https://min-repo.com/426478/\n",
      "5/23(日) スーパーDステーション上里店 https://min-repo.com/423683/\n",
      "5/19(水) スーパーDステーション上里店 https://min-repo.com/420549/\n",
      "5/17(月) マルハン上里店 https://min-repo.com/418974/\n",
      "5/13(木) スーパーDステーション上里店 https://min-repo.com/416051/\n",
      "5/9(日) スーパーDステーション上里店 https://min-repo.com/413289/\n",
      "5/7(金) マルハン上里店 https://min-repo.com/411429/\n",
      "5/5(水) パチンコプラザ ラ･カータ上里店 https://min-repo.com/409805/\n",
      "5/3(月) スーパーDステーション上里店 https://min-repo.com/408233/\n"
     ]
    }
   ],
   "source": [
    "for title, url in zip(title_tags, url_tags):\n",
    "    print(title.text, url)"
   ]
  },
  {
   "cell_type": "code",
   "execution_count": 19,
   "id": "302ef9cb",
   "metadata": {},
   "outputs": [],
   "source": [
    "url = lst[0]\n",
    "html = urllib.request.urlopen(url)\n",
    "soup = BeautifulSoup(html, \"lxml\")"
   ]
  },
  {
   "cell_type": "code",
   "execution_count": 29,
   "id": "c2e78b84",
   "metadata": {},
   "outputs": [
    {
     "data": {
      "text/html": [
       "<div>\n",
       "<style scoped>\n",
       "    .dataframe tbody tr th:only-of-type {\n",
       "        vertical-align: middle;\n",
       "    }\n",
       "\n",
       "    .dataframe tbody tr th {\n",
       "        vertical-align: top;\n",
       "    }\n",
       "\n",
       "    .dataframe thead th {\n",
       "        text-align: right;\n",
       "    }\n",
       "</style>\n",
       "<table border=\"1\" class=\"dataframe\">\n",
       "  <thead>\n",
       "    <tr style=\"text-align: right;\">\n",
       "      <th></th>\n",
       "      <th>0</th>\n",
       "      <th>1</th>\n",
       "    </tr>\n",
       "  </thead>\n",
       "  <tbody>\n",
       "    <tr>\n",
       "      <th>0</th>\n",
       "      <td>状況</td>\n",
       "      <td>旧イベント日  （9のつく日）</td>\n",
       "    </tr>\n",
       "    <tr>\n",
       "      <th>1</th>\n",
       "      <td>総差枚</td>\n",
       "      <td>-42739</td>\n",
       "    </tr>\n",
       "    <tr>\n",
       "      <th>2</th>\n",
       "      <td>平均差枚</td>\n",
       "      <td>-149</td>\n",
       "    </tr>\n",
       "    <tr>\n",
       "      <th>3</th>\n",
       "      <td>平均G数</td>\n",
       "      <td>1658</td>\n",
       "    </tr>\n",
       "    <tr>\n",
       "      <th>4</th>\n",
       "      <td>勝率</td>\n",
       "      <td>74/287</td>\n",
       "    </tr>\n",
       "    <tr>\n",
       "      <th>5</th>\n",
       "      <td>換金率・口コミ</td>\n",
       "      <td>みんパチ</td>\n",
       "    </tr>\n",
       "    <tr>\n",
       "      <th>6</th>\n",
       "      <td>過去の結果</td>\n",
       "      <td>レポート一覧</td>\n",
       "    </tr>\n",
       "    <tr>\n",
       "      <th>7</th>\n",
       "      <td>集計対象</td>\n",
       "      <td>3のつく日、  9のつく日  ※追加・修正する必要がある場合は  お問い合わせ  ください</td>\n",
       "    </tr>\n",
       "  </tbody>\n",
       "</table>\n",
       "</div>"
      ],
      "text/plain": [
       "         0                                              1\n",
       "0       状況                                旧イベント日  （9のつく日）\n",
       "1      総差枚                                         -42739\n",
       "2     平均差枚                                           -149\n",
       "3     平均G数                                           1658\n",
       "4       勝率                                         74/287\n",
       "5  換金率・口コミ                                           みんパチ\n",
       "6    過去の結果                                         レポート一覧\n",
       "7     集計対象  3のつく日、  9のつく日  ※追加・修正する必要がある場合は  お問い合わせ  ください"
      ]
     },
     "execution_count": 29,
     "metadata": {},
     "output_type": "execute_result"
    }
   ],
   "source": [
    "dfs = pd.io.html.read_html(soup.prettify())\n",
    "dfs[0]"
   ]
  },
  {
   "cell_type": "code",
   "execution_count": 46,
   "id": "1e71a6be",
   "metadata": {},
   "outputs": [
    {
     "name": "stdout",
     "output_type": "stream",
     "text": [
      "旧イベント日（9のつく日） 総差枚 -42739 平均差枚 -149 平均G数 1658 勝率 74/287\n"
     ]
    }
   ],
   "source": [
    "prevent = re.sub(\" \", \"\", dfs[0].loc[0, 1])\n",
    "all_pay = dfs[0].loc[1, 1]\n",
    "avg_pay = dfs[0].loc[2, 1]\n",
    "avg_g = dfs[0].loc[3, 1]\n",
    "win_rate = dfs[0].loc[4, 1]\n",
    "print(f\"{prevent} 総差枚 {all_pay} 平均差枚 {avg_pay} 平均G数 {avg_g} 勝率 {win_rate}\")"
   ]
  },
  {
   "cell_type": "code",
   "execution_count": 28,
   "id": "6220f757",
   "metadata": {},
   "outputs": [
    {
     "data": {
      "text/html": [
       "<div>\n",
       "<style scoped>\n",
       "    .dataframe tbody tr th:only-of-type {\n",
       "        vertical-align: middle;\n",
       "    }\n",
       "\n",
       "    .dataframe tbody tr th {\n",
       "        vertical-align: top;\n",
       "    }\n",
       "\n",
       "    .dataframe thead th {\n",
       "        text-align: right;\n",
       "    }\n",
       "</style>\n",
       "<table border=\"1\" class=\"dataframe\">\n",
       "  <thead>\n",
       "    <tr style=\"text-align: right;\">\n",
       "      <th></th>\n",
       "      <th>機種</th>\n",
       "      <th>平均差枚</th>\n",
       "      <th>平均G数</th>\n",
       "      <th>勝率</th>\n",
       "      <th>出率</th>\n",
       "    </tr>\n",
       "  </thead>\n",
       "  <tbody>\n",
       "    <tr>\n",
       "      <th>0</th>\n",
       "      <td>パチスロ　サラリーマン金太郎〜ＭＡＸ〜</td>\n",
       "      <td>1790</td>\n",
       "      <td>3861</td>\n",
       "      <td>1/2</td>\n",
       "      <td>115.5%</td>\n",
       "    </tr>\n",
       "    <tr>\n",
       "      <th>1</th>\n",
       "      <td>忍魂　〜暁ノ章〜</td>\n",
       "      <td>1193</td>\n",
       "      <td>909</td>\n",
       "      <td>2/2</td>\n",
       "      <td>143.7%</td>\n",
       "    </tr>\n",
       "    <tr>\n",
       "      <th>2</th>\n",
       "      <td>ＳＬＯＴ　バジリスク〜甲賀忍法帖〜ＩＩＩ</td>\n",
       "      <td>1065</td>\n",
       "      <td>1722</td>\n",
       "      <td>3/3</td>\n",
       "      <td>120.6%</td>\n",
       "    </tr>\n",
       "    <tr>\n",
       "      <th>3</th>\n",
       "      <td>パチスロ　哲也　－天運地力－</td>\n",
       "      <td>866</td>\n",
       "      <td>673</td>\n",
       "      <td>1/2</td>\n",
       "      <td>142.9%</td>\n",
       "    </tr>\n",
       "    <tr>\n",
       "      <th>4</th>\n",
       "      <td>パチスロ鉄拳４デビルＶｅｒ．</td>\n",
       "      <td>834</td>\n",
       "      <td>3284</td>\n",
       "      <td>1/3</td>\n",
       "      <td>108.5%</td>\n",
       "    </tr>\n",
       "    <tr>\n",
       "      <th>5</th>\n",
       "      <td>アレックス</td>\n",
       "      <td>616</td>\n",
       "      <td>3467</td>\n",
       "      <td>2/2</td>\n",
       "      <td>105.9%</td>\n",
       "    </tr>\n",
       "    <tr>\n",
       "      <th>6</th>\n",
       "      <td>Ｒｅ：ゼロから始める異世界生活</td>\n",
       "      <td>366</td>\n",
       "      <td>577</td>\n",
       "      <td>1/6</td>\n",
       "      <td>121.1%</td>\n",
       "    </tr>\n",
       "    <tr>\n",
       "      <th>7</th>\n",
       "      <td>ＧＯＧＯジャグラー</td>\n",
       "      <td>149</td>\n",
       "      <td>3772</td>\n",
       "      <td>5/9</td>\n",
       "      <td>101.3%</td>\n",
       "    </tr>\n",
       "    <tr>\n",
       "      <th>8</th>\n",
       "      <td>聖闘士星矢海皇覚醒ＳＰ</td>\n",
       "      <td>135</td>\n",
       "      <td>1106</td>\n",
       "      <td>1/4</td>\n",
       "      <td>104.1%</td>\n",
       "    </tr>\n",
       "    <tr>\n",
       "      <th>9</th>\n",
       "      <td>パチスロ北斗の拳　宿命</td>\n",
       "      <td>69</td>\n",
       "      <td>1609</td>\n",
       "      <td>2/5</td>\n",
       "      <td>101.4%</td>\n",
       "    </tr>\n",
       "  </tbody>\n",
       "</table>\n",
       "</div>"
      ],
      "text/plain": [
       "                     機種  平均差枚  平均G数   勝率      出率\n",
       "0   パチスロ　サラリーマン金太郎〜ＭＡＸ〜  1790  3861  1/2  115.5%\n",
       "1              忍魂　〜暁ノ章〜  1193   909  2/2  143.7%\n",
       "2  ＳＬＯＴ　バジリスク〜甲賀忍法帖〜ＩＩＩ  1065  1722  3/3  120.6%\n",
       "3        パチスロ　哲也　－天運地力－   866   673  1/2  142.9%\n",
       "4        パチスロ鉄拳４デビルＶｅｒ．   834  3284  1/3  108.5%\n",
       "5                 アレックス   616  3467  2/2  105.9%\n",
       "6       Ｒｅ：ゼロから始める異世界生活   366   577  1/6  121.1%\n",
       "7             ＧＯＧＯジャグラー   149  3772  5/9  101.3%\n",
       "8           聖闘士星矢海皇覚醒ＳＰ   135  1106  1/4  104.1%\n",
       "9           パチスロ北斗の拳　宿命    69  1609  2/5  101.4%"
      ]
     },
     "execution_count": 28,
     "metadata": {},
     "output_type": "execute_result"
    }
   ],
   "source": [
    "dfs[1].head(10)"
   ]
  },
  {
   "cell_type": "code",
   "execution_count": 73,
   "id": "eb9b60de",
   "metadata": {},
   "outputs": [
    {
     "data": {
      "text/plain": [
       "'伊勢崎市'"
      ]
     },
     "execution_count": 73,
     "metadata": {},
     "output_type": "execute_result"
    }
   ],
   "source": [
    "isesaki = \"/群馬県/伊勢崎市/\"\n",
    "isesaki.split(\"/\")[2]"
   ]
  },
  {
   "cell_type": "code",
   "execution_count": null,
   "id": "e1e5d243",
   "metadata": {},
   "outputs": [],
   "source": []
  }
 ],
 "metadata": {
  "kernelspec": {
   "display_name": "Python 3",
   "language": "python",
   "name": "python3"
  },
  "language_info": {
   "codemirror_mode": {
    "name": "ipython",
    "version": 3
   },
   "file_extension": ".py",
   "mimetype": "text/x-python",
   "name": "python",
   "nbconvert_exporter": "python",
   "pygments_lexer": "ipython3",
   "version": "3.9.1"
  }
 },
 "nbformat": 4,
 "nbformat_minor": 5
}
