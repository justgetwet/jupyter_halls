{
 "cells": [
  {
   "cell_type": "code",
   "execution_count": 6,
   "id": "5f3c554d",
   "metadata": {},
   "outputs": [],
   "source": [
    "import json\n",
    "import datetime\n",
    "import pandas as pd"
   ]
  },
  {
   "cell_type": "code",
   "execution_count": 4,
   "id": "6ad60ffd",
   "metadata": {},
   "outputs": [
    {
     "name": "stdout",
     "output_type": "stream",
     "text": [
      "{'5': 'カバネリ', '6': 'モンキー', '7': 'アリア', '8': 'アリア', '9': 'アリア', '41': 'タロウ', '42': 'タロウ', '43': 'タロウ', '44': 'タロウ', '45': 'タロウ', '46': 'タロウ', '47': '禁書', '48': '禁書', '49': '禁書', '50': '禁書', '51': '禁書', '52': '禁書', '82': '戦コレ', '83': 'ゴルゴ', '84': 'ゴルゴ', '87': '乙女6', '88': '乙女6', '89': '物語2', '90': '物語2', '125': 'ギンパラ', '126': 'ギンパラ', '127': 'ガルパン', '128': 'ガルパン', '129': '信奈全国', '130': '信奈全国', '334': '轟音', '335': '轟音', '336': '轟音', '337': '轟音', '401': '冬ソナ', '402': '冬ソナ', '447': '超乱舞', '448': '超乱舞', '453': '決戦', '454': '決戦', '455': '決戦', '571': '決戦A', '521': 'HOTD', '522': 'クィーン', '525': 'カグラ', '563': 'TURBO', '616': 'TURBO', '578': 'AKB桜', '567': 'まどか', '611': 'まどか', '601': '999'}\n"
     ]
    }
   ],
   "source": [
    "ds_kamisato = {\"5\": \"カバネリ\", \"6\": \"モンキー\", \"7\": \"アリア\", \"8\": \"アリア\", \"9\": \"アリア\",\n",
    "               \"41\": \"タロウ\", \"42\": \"タロウ\", \"43\": \"タロウ\", \"44\": \"タロウ\", \"45\": \"タロウ\", \n",
    "               \"46\": \"タロウ\", \"47\": \"禁書\", \"48\": \"禁書\", \"49\": \"禁書\", \"50\": \"禁書\", \"51\": \"禁書\", \n",
    "               \"52\": \"禁書\", \"82\": \"戦コレ\", \"83\": \"ゴルゴ\", \"84\": \"ゴルゴ\", \"87\": \"乙女6\", \n",
    "               \"88\": \"乙女6\", \"89\": \"物語2\", \"90\": \"物語2\", \"125\": \"ギンパラ\", \"126\": \"ギンパラ\", \n",
    "               \"127\": \"ガルパン\", \"128\": \"ガルパン\", \"129\": \"信奈全国\", \"130\": \"信奈全国\", \n",
    "               \"334\": \"轟音\", \"335\": \"轟音\", \"336\": \"轟音\", \"337\": \"轟音\", \"401\": \"冬ソナ\", \n",
    "               \"402\": \"冬ソナ\", \"447\": \"超乱舞\", \"448\": \"超乱舞\", \"453\": \"決戦\", \"454\": \"決戦\", \n",
    "               \"455\": \"決戦\", \"571\": \"決戦A\", \"521\": \"HOTD\", \"522\": \"クィーン\", \"525\": \"カグラ\", \n",
    "               \"563\": \"TURBO\", \"616\": \"TURBO\", \"578\": \"AKB桜\", \"567\": \"まどか\", \"611\": \"まどか\", \n",
    "               \"601\": \"999\"}\n",
    "print(ds_kamisato)"
   ]
  },
  {
   "cell_type": "code",
   "execution_count": 12,
   "id": "4ff10326",
   "metadata": {},
   "outputs": [
    {
     "name": "stdout",
     "output_type": "stream",
     "text": [
      "{'250': 'タロウ', '266': 'タロウ', '267': 'タロウ', '268': 'タロウ', '269': 'タロウ'}\n"
     ]
    }
   ],
   "source": [
    "ds_kuragano =  {\"10\": \"まどか\", \"46\": \"999\", \"42\": \"決戦A\", \"51\": \"決戦A\", \"89\": \"AKB桜\", \"90\": \"AKB桜\",\n",
    "                \"149\": \"超乱舞\", \"150\": \"超乱舞\",\n",
    "                \"200\": \"ギンパラ\", \"201\": \"ギンパラ\",\"202\": \"ギンパラ\",\"203\": \"ギンパラ\",\n",
    "                \"463\": \"TURBO\", \"474\": \"TURBO\", \"495\": \"TURBO\"\n",
    "               }\n",
    "ds_kuragano = {\"250\": \"タロウ\", \"266\": \"タロウ\", \"267\": \"タロウ\", \"268\": \"タロウ\", \"269\": \"タロウ\"}\n",
    "print(ds_kuragano)"
   ]
  },
  {
   "cell_type": "code",
   "execution_count": 11,
   "id": "f1a4ae8f",
   "metadata": {},
   "outputs": [
    {
     "name": "stdout",
     "output_type": "stream",
     "text": [
      "{'10': 'まどか', '46': '999', '42': '決戦A', '51': '決戦A', '89': 'AKB桜', '90': 'AKB桜', '149': '超乱舞', '150': '超乱舞', '200': 'ギンパラ', '201': 'ギンパラ', '202': 'ギンパラ', '203': 'ギンパラ', '463': 'TURBO', '474': 'TURBO', '495': 'TURBO'}\n"
     ]
    }
   ],
   "source": [
    "p = f\"ds_kuragano.json\"\n",
    "with open(p, \"r\", encoding=\"utf-8\") as f:\n",
    "    read_dic = json.load(f)\n",
    "print(read_dic)"
   ]
  },
  {
   "cell_type": "code",
   "execution_count": 7,
   "id": "92fffee1",
   "metadata": {},
   "outputs": [],
   "source": [
    "def datestring():\n",
    "    dt_now = datetime.datetime.now()\n",
    "    oneday = datetime.timedelta(days=1)\n",
    "    if dt_now.hour < 12: dt_now -= oneday\n",
    "    yyyymmdd = dt_now.strftime('%Y-%m-%d')\n",
    "    return yyyymmdd"
   ]
  },
  {
   "cell_type": "code",
   "execution_count": 15,
   "id": "9cdeea57",
   "metadata": {},
   "outputs": [
    {
     "name": "stdout",
     "output_type": "stream",
     "text": [
      "kuragano\n"
     ]
    }
   ],
   "source": [
    "# しょりするほーる\n",
    "hall = \"kuragano\"\n",
    "# hall = \"kamisato\"\n",
    "print(hall)"
   ]
  },
  {
   "cell_type": "code",
   "execution_count": 30,
   "id": "02ca9fdf",
   "metadata": {},
   "outputs": [
    {
     "data": {
      "text/html": [
       "<div>\n",
       "<style scoped>\n",
       "    .dataframe tbody tr th:only-of-type {\n",
       "        vertical-align: middle;\n",
       "    }\n",
       "\n",
       "    .dataframe tbody tr th {\n",
       "        vertical-align: top;\n",
       "    }\n",
       "\n",
       "    .dataframe thead th {\n",
       "        text-align: right;\n",
       "    }\n",
       "</style>\n",
       "<table border=\"1\" class=\"dataframe\">\n",
       "  <thead>\n",
       "    <tr style=\"text-align: right;\">\n",
       "      <th></th>\n",
       "      <th>No</th>\n",
       "      <th>machine</th>\n",
       "      <th>date</th>\n",
       "      <th>初当</th>\n",
       "      <th>継続</th>\n",
       "      <th>最終</th>\n",
       "      <th>前日</th>\n",
       "    </tr>\n",
       "  </thead>\n",
       "  <tbody>\n",
       "    <tr>\n",
       "      <th>0</th>\n",
       "      <td>250</td>\n",
       "      <td>タロウ</td>\n",
       "      <td>08/03 02:11</td>\n",
       "      <td>0</td>\n",
       "      <td>0</td>\n",
       "      <td>66</td>\n",
       "      <td></td>\n",
       "    </tr>\n",
       "    <tr>\n",
       "      <th>1</th>\n",
       "      <td>266</td>\n",
       "      <td>タロウ</td>\n",
       "      <td>08/03 02:12</td>\n",
       "      <td>0</td>\n",
       "      <td></td>\n",
       "      <td></td>\n",
       "      <td>20\\nrm</td>\n",
       "    </tr>\n",
       "    <tr>\n",
       "      <th>2</th>\n",
       "      <td>267</td>\n",
       "      <td>タロウ</td>\n",
       "      <td>08/03 02:13</td>\n",
       "      <td>0</td>\n",
       "      <td></td>\n",
       "      <td></td>\n",
       "      <td>20</td>\n",
       "    </tr>\n",
       "  </tbody>\n",
       "</table>\n",
       "</div>"
      ],
      "text/plain": [
       "    No machine         date 初当 継続  最終      前日\n",
       "0  250     タロウ  08/03 02:11  0  0  66        \n",
       "1  266     タロウ  08/03 02:12  0         20\\nrm\n",
       "2  267     タロウ  08/03 02:13  0             20"
      ]
     },
     "execution_count": 30,
     "metadata": {},
     "output_type": "execute_result"
    }
   ],
   "source": [
    "# きょうのでーた\n",
    "yyyymmdd = datestring()\n",
    "p = f\"./ds_{hall}_works_{yyyymmdd}.json\"\n",
    "with open(p, \"r\", encoding=\"utf-8\") as f:\n",
    "    read_dic = json.load(f)\n",
    "\n",
    "lst = [v for v in read_dic.values() if v[3] == \"0\"]\n",
    "col = [\"No\", \"machine\", \"date\", \"初当\", \"継続\", \"最終\", \"前日\"]\n",
    "today_df = pd.DataFrame(lst, columns=col)\n",
    "today_df"
   ]
  },
  {
   "cell_type": "code",
   "execution_count": 31,
   "id": "9631ef94",
   "metadata": {},
   "outputs": [
    {
     "data": {
      "text/html": [
       "<div>\n",
       "<style scoped>\n",
       "    .dataframe tbody tr th:only-of-type {\n",
       "        vertical-align: middle;\n",
       "    }\n",
       "\n",
       "    .dataframe tbody tr th {\n",
       "        vertical-align: top;\n",
       "    }\n",
       "\n",
       "    .dataframe thead th {\n",
       "        text-align: right;\n",
       "    }\n",
       "</style>\n",
       "<table border=\"1\" class=\"dataframe\">\n",
       "  <thead>\n",
       "    <tr style=\"text-align: right;\">\n",
       "      <th></th>\n",
       "      <th>No</th>\n",
       "      <th>machine</th>\n",
       "      <th>date</th>\n",
       "      <th>初当</th>\n",
       "      <th>継続</th>\n",
       "      <th>最終</th>\n",
       "      <th>前日</th>\n",
       "    </tr>\n",
       "  </thead>\n",
       "  <tbody>\n",
       "    <tr>\n",
       "      <th>0</th>\n",
       "      <td>250</td>\n",
       "      <td>タロウ</td>\n",
       "      <td>08/03 02:11</td>\n",
       "      <td>0</td>\n",
       "      <td>0</td>\n",
       "      <td>66</td>\n",
       "      <td>0</td>\n",
       "    </tr>\n",
       "    <tr>\n",
       "      <th>1</th>\n",
       "      <td>266</td>\n",
       "      <td>タロウ</td>\n",
       "      <td>08/03 02:12</td>\n",
       "      <td>0</td>\n",
       "      <td>0</td>\n",
       "      <td>0</td>\n",
       "      <td>20</td>\n",
       "    </tr>\n",
       "    <tr>\n",
       "      <th>2</th>\n",
       "      <td>267</td>\n",
       "      <td>タロウ</td>\n",
       "      <td>08/03 02:13</td>\n",
       "      <td>0</td>\n",
       "      <td>0</td>\n",
       "      <td>0</td>\n",
       "      <td>20</td>\n",
       "    </tr>\n",
       "  </tbody>\n",
       "</table>\n",
       "</div>"
      ],
      "text/plain": [
       "    No machine         date 初当 継続  最終  前日\n",
       "0  250     タロウ  08/03 02:11  0  0  66   0\n",
       "1  266     タロウ  08/03 02:12  0  0   0  20\n",
       "2  267     タロウ  08/03 02:13  0  0   0  20"
      ]
     },
     "execution_count": 31,
     "metadata": {},
     "output_type": "execute_result"
    }
   ],
   "source": [
    "# しゅうせい\n",
    "# today_df.drop(1, inplace=True)\n",
    "# today_df.drop(6, inplace=True)\n",
    "today_df.loc[0, \"初当\":\"前日\"] = [0,0,66,0]\n",
    "today_df.loc[1, \"初当\":\"前日\"] = [0,0,0,20]\n",
    "today_df.loc[2, \"初当\":\"前日\"] = [0,0,0,20]\n",
    "today_df"
   ]
  },
  {
   "cell_type": "code",
   "execution_count": null,
   "id": "d02da283",
   "metadata": {},
   "outputs": [],
   "source": [
    "# ぜんじつのでーた\n",
    "dt_now = datetime.datetime.now()\n",
    "oneday = datetime.timedelta(days=1)\n",
    "if dt_now.hour < 12: dt_now -= oneday\n",
    "dt_now -= oneday\n",
    "yyyymmdd = dt_now.strftime('%Y-%m-%d')\n",
    "\n",
    "p = f\"./ds_{hall}_{yyyymmdd}.json\"\n",
    "with open(p, \"r\", encoding=\"utf-8\") as f:\n",
    "    read_dic = json.load(f)\n",
    "pre_df = pd.DataFrame(read_dic.values())\n",
    "pre_df.head(10)"
   ]
  },
  {
   "cell_type": "code",
   "execution_count": null,
   "id": "6f751cd0",
   "metadata": {},
   "outputs": [],
   "source": [
    "#　まーじ\n",
    "lst = []\n",
    "for row in today_df.itertuples():\n",
    "    lst.append(list(row[1:]))\n",
    "    lst += [list(r[1:]) for r in pre_df.itertuples() if row.No == r._1]\n",
    "col = [\"No\", \"machine\", \"date\", \"初当\", \"継続\", \"最終\", \"前日\"]\n",
    "merge_df = pd.DataFrame(lst, columns=col).sort_values(['No', 'date']).reset_index(drop=True)\n",
    "merge_df.head(10)"
   ]
  },
  {
   "cell_type": "code",
   "execution_count": 34,
   "id": "6b67ec34",
   "metadata": {},
   "outputs": [],
   "source": [
    "# ほぞん\n",
    "yyyymmdd = datestring()\n",
    "dic = {idx: list(row) for idx, row in merge_df.iterrows()}\n",
    "read_json = json.dumps(dic, ensure_ascii=False)\n",
    "p_w = f\"./ds_{hall}_{yyyymmdd}.json\"\n",
    "with open(p_w, \"w\", encoding=\"utf-8\") as f:\n",
    "    f.write(read_json)"
   ]
  },
  {
   "cell_type": "code",
   "execution_count": null,
   "id": "91299c85",
   "metadata": {},
   "outputs": [],
   "source": []
  }
 ],
 "metadata": {
  "kernelspec": {
   "display_name": "Python 3",
   "language": "python",
   "name": "python3"
  },
  "language_info": {
   "codemirror_mode": {
    "name": "ipython",
    "version": 3
   },
   "file_extension": ".py",
   "mimetype": "text/x-python",
   "name": "python",
   "nbconvert_exporter": "python",
   "pygments_lexer": "ipython3",
   "version": "3.9.1"
  }
 },
 "nbformat": 4,
 "nbformat_minor": 5
}
