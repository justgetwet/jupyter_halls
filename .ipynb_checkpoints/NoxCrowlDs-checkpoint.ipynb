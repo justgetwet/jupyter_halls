{
 "cells": [
  {
   "cell_type": "code",
   "execution_count": 6,
   "id": "fe06b679",
   "metadata": {},
   "outputs": [],
   "source": [
    "import json\n",
    "import datetime\n",
    "import pandas as pd"
   ]
  },
  {
   "cell_type": "code",
   "execution_count": 4,
   "id": "a0f7453e",
   "metadata": {},
   "outputs": [
    {
     "name": "stdout",
     "output_type": "stream",
     "text": [
      "{'5': 'カバネリ', '6': 'モンキー', '7': 'アリア', '8': 'アリア', '9': 'アリア', '41': 'タロウ', '42': 'タロウ', '43': 'タロウ', '44': 'タロウ', '45': 'タロウ', '46': 'タロウ', '47': '禁書', '48': '禁書', '49': '禁書', '50': '禁書', '51': '禁書', '52': '禁書', '82': '戦コレ', '83': 'ゴルゴ', '84': 'ゴルゴ', '87': '乙女6', '88': '乙女6', '89': '物語2', '90': '物語2', '125': 'ギンパラ', '126': 'ギンパラ', '127': 'ガルパン', '128': 'ガルパン', '129': '信奈全国', '130': '信奈全国', '334': '轟音', '335': '轟音', '336': '轟音', '337': '轟音', '401': '冬ソナ', '402': '冬ソナ', '447': '超乱舞', '448': '超乱舞', '453': '決戦', '454': '決戦', '455': '決戦', '571': '決戦A', '521': 'HOTD', '522': 'クィーン', '525': 'カグラ', '563': 'TURBO', '616': 'TURBO', '578': 'AKB桜', '567': 'まどか', '611': 'まどか', '601': '999'}\n"
     ]
    }
   ],
   "source": [
    "ds_kamisato = {\"5\": \"カバネリ\", \"6\": \"モンキー\", \"7\": \"アリア\", \"8\": \"アリア\", \"9\": \"アリア\",\n",
    "               \"41\": \"タロウ\", \"42\": \"タロウ\", \"43\": \"タロウ\", \"44\": \"タロウ\", \"45\": \"タロウ\", \n",
    "               \"46\": \"タロウ\", \"47\": \"禁書\", \"48\": \"禁書\", \"49\": \"禁書\", \"50\": \"禁書\", \"51\": \"禁書\", \n",
    "               \"52\": \"禁書\", \"82\": \"戦コレ\", \"83\": \"ゴルゴ\", \"84\": \"ゴルゴ\", \"87\": \"乙女6\", \n",
    "               \"88\": \"乙女6\", \"89\": \"物語2\", \"90\": \"物語2\", \"125\": \"ギンパラ\", \"126\": \"ギンパラ\", \n",
    "               \"127\": \"ガルパン\", \"128\": \"ガルパン\", \"129\": \"信奈全国\", \"130\": \"信奈全国\", \n",
    "               \"334\": \"轟音\", \"335\": \"轟音\", \"336\": \"轟音\", \"337\": \"轟音\", \"401\": \"冬ソナ\", \n",
    "               \"402\": \"冬ソナ\", \"447\": \"超乱舞\", \"448\": \"超乱舞\", \"453\": \"決戦\", \"454\": \"決戦\", \n",
    "               \"455\": \"決戦\", \"571\": \"決戦A\", \"521\": \"HOTD\", \"522\": \"クィーン\", \"525\": \"カグラ\", \n",
    "               \"563\": \"TURBO\", \"616\": \"TURBO\", \"578\": \"AKB桜\", \"567\": \"まどか\", \"611\": \"まどか\", \n",
    "               \"601\": \"999\"}\n",
    "print(ds_kamisato)"
   ]
  },
  {
   "cell_type": "code",
   "execution_count": 5,
   "id": "3dffb312",
   "metadata": {},
   "outputs": [
    {
     "name": "stdout",
     "output_type": "stream",
     "text": [
      "{'10': 'まどか', '46': '999', '42': '決戦A', '51': '決戦A', '89': 'AKB桜', '90': 'AKB桜'}\n"
     ]
    }
   ],
   "source": [
    "ds_kuragano =  {\"10\": \"まどか\", \"46\": \"999\", \"42\": \"決戦A\", \"51\": \"決戦A\", \"89\": \"AKB桜\", \"90\": \"AKB桜\"}\n",
    "print(ds_kuragano)"
   ]
  },
  {
   "cell_type": "code",
   "execution_count": 7,
   "id": "d79ae686",
   "metadata": {},
   "outputs": [],
   "source": [
    "def datestring():\n",
    "    dt_now = datetime.datetime.now()\n",
    "    oneday = datetime.timedelta(days=1)\n",
    "    if dt_now.hour < 12: dt_now -= oneday\n",
    "    yyyymmdd = dt_now.strftime('%Y-%m-%d')\n",
    "    return yyyymmdd"
   ]
  },
  {
   "cell_type": "code",
   "execution_count": null,
   "id": "aa733f3b",
   "metadata": {},
   "outputs": [],
   "source": [
    "# しょりするほーる\n",
    "hall = kuragano\n",
    "# hall = kamisato"
   ]
  },
  {
   "cell_type": "code",
   "execution_count": null,
   "id": "c15d2c2a",
   "metadata": {},
   "outputs": [],
   "source": [
    "# きょうのでーた\n",
    "yyyymmdd = datestring()\n",
    "p = f\"./ds_{hall}_works_{yyyymmdd}.json\"\n",
    "with open(p, \"r\", encoding=\"utf-8\") as f:\n",
    "    read_dic = json.load(f)\n",
    "    \n",
    "lst = [[key, *item] for key, item in read_dic.items() if item[2] == \"0\"]\n",
    "col = [\"No\", \"machine\", \"date\", \"初当\", \"継続\", \"最終\", \"前日\"]\n",
    "today_df = pd.DataFrame(lst, columns=col)\n",
    "today_df"
   ]
  },
  {
   "cell_type": "code",
   "execution_count": null,
   "id": "95b0b914",
   "metadata": {},
   "outputs": [],
   "source": [
    "# しゅうせい\n",
    "today_df.drop(1, inplace=True)\n",
    "today_df.drop(6, inplace=True)\n",
    "today_df.loc[7, \"初当\":\"前日\"] = [0,0,105,53]\n",
    "# df.loc[7, \"初当\":\"前日\"] = [0,0,16,19]\n",
    "# df.loc[10, \"初当\":\"前日\"] = [0,0,121,6]\n",
    "today_df"
   ]
  },
  {
   "cell_type": "code",
   "execution_count": null,
   "id": "3651bbbf",
   "metadata": {},
   "outputs": [],
   "source": [
    "# ぜんじつのでーた\n",
    "dt_now = datetime.datetime.now()\n",
    "oneday = datetime.timedelta(days=1)\n",
    "if dt_now.hour < 12: dt_now -= oneday\n",
    "dt_now -= oneday\n",
    "yyyymmdd = dt_now.strftime('%Y-%m-%d')\n",
    "\n",
    "p = f\"./ds_{hall}_{yyyymmdd}.json\"\n",
    "with open(p, \"r\", encoding=\"utf-8\") as f:\n",
    "    read_dic = json.load(f)\n",
    "pre_df = pd.DataFrame(read_dic.values())\n",
    "pre_df.head(10)"
   ]
  },
  {
   "cell_type": "code",
   "execution_count": null,
   "id": "5293b79d",
   "metadata": {},
   "outputs": [],
   "source": [
    "#　まーじ\n",
    "lst = []\n",
    "for row in today_df.itertuples():\n",
    "    lst.append(list(row[1:]))\n",
    "    lst += [list(r[1:]) for r in pre_df.itertuples() if row.No == r._1]\n",
    "col = [\"No\", \"machine\", \"date\", \"初当\", \"継続\", \"最終\", \"前日\"]\n",
    "merge_df = pd.DataFrame(lst, columns=col).sort_values(['No', 'date']).reset_index(drop=True)\n",
    "merge_df.head(10)"
   ]
  },
  {
   "cell_type": "code",
   "execution_count": null,
   "id": "d2cd3aed",
   "metadata": {},
   "outputs": [],
   "source": [
    "# ほぞん\n",
    "yyyymmdd = datestring()\n",
    "dic {idx: list(row) for idx, row for merge_df.iterrows()}\n",
    "read_json = json.dumps(dic, ensure_ascii=False)\n",
    "p_w = f\"./ds_{hall}_{yyyymmdd}.json\"\n",
    "with open(p_w, \"w\", encoding=\"utf-8\") as f:\n",
    "    f.write(read_json)"
   ]
  }
 ],
 "metadata": {
  "kernelspec": {
   "display_name": "Python 3",
   "language": "python",
   "name": "python3"
  },
  "language_info": {
   "codemirror_mode": {
    "name": "ipython",
    "version": 3
   },
   "file_extension": ".py",
   "mimetype": "text/x-python",
   "name": "python",
   "nbconvert_exporter": "python",
   "pygments_lexer": "ipython3",
   "version": "3.9.1"
  }
 },
 "nbformat": 4,
 "nbformat_minor": 5
}
